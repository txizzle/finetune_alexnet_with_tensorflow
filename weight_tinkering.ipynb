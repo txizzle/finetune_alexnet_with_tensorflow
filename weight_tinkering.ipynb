{
 "cells": [
  {
   "cell_type": "code",
   "execution_count": 1,
   "metadata": {
    "collapsed": true
   },
   "outputs": [],
   "source": [
    "#some basic imports and setups\n",
    "import os\n",
    "import cv2\n",
    "import numpy as np\n",
    "import tensorflow as tf\n",
    "import matplotlib.pyplot as plt\n",
    "from datagenerator import ImageDataGenerator\n",
    "from datetime import datetime\n",
    "\n",
    "#mean of imagenet dataset in BGR\n",
    "imagenet_mean = np.array([104., 117., 124.], dtype=np.float32)\n",
    "\n",
    "%matplotlib inline"
   ]
  },
  {
   "cell_type": "code",
   "execution_count": 5,
   "metadata": {
    "collapsed": true
   },
   "outputs": [],
   "source": [
    "from alexnet import AlexNet\n",
    "from caffe_classes import class_names\n",
    "\n",
    "tf.reset_default_graph()\n",
    "\n",
    "# Network params\n",
    "dropout_rate = 0.5\n",
    "num_classes = 1000\n",
    "train_layers = ['fc8', 'fc7']\n",
    "batch_size = 128\n",
    "\n",
    "#placeholder for input and dropout rate\n",
    "x = tf.placeholder(tf.float32, [batch_size, 227, 227, 3])\n",
    "keep_prob = tf.placeholder(tf.float32)\n",
    "\n",
    "# TF placeholder for graph input and output\n",
    "x = tf.placeholder(tf.float32, [batch_size, 227, 227, 3])\n",
    "y = tf.placeholder(tf.float32, [None, num_classes])\n",
    "keep_prob = tf.placeholder(tf.float32)\n",
    "\n",
    "# Initialize model\n",
    "model = AlexNet(x, keep_prob, num_classes, train_layers)\n",
    "\n",
    "# Link variable to model output\n",
    "score = model.fc8"
   ]
  },
  {
   "cell_type": "code",
   "execution_count": 10,
   "metadata": {},
   "outputs": [
    {
     "name": "stdout",
     "output_type": "stream",
     "text": [
      "INFO:tensorflow:Restoring parameters from ./tmp/finetune_alexnet/model_epoch2.ckpt\n",
      "2017-07-13 21:01:05.129881 Start validation\n",
      "6 out of 390 batches done\n",
      "Accuracy: 0.470052083333\n",
      "6 out of 390 batches done\n",
      "Accuracy: 0.458854166667\n",
      "6 out of 390 batches done\n",
      "Accuracy: 0.461458333333\n",
      "6 out of 390 batches done\n",
      "Accuracy: 0.456380208333\n",
      "6 out of 390 batches done\n",
      "Accuracy: 0.45609375\n",
      "6 out of 390 batches done\n",
      "Accuracy: 0.456553819444\n",
      "6 out of 390 batches done\n",
      "Accuracy: 0.456770833333\n",
      "6 out of 390 batches done\n",
      "Accuracy: 0.460546875\n",
      "6 out of 390 batches done\n",
      "Accuracy: 0.456394675926\n",
      "6 out of 390 batches done\n",
      "Accuracy: 0.457057291667\n",
      "6 out of 390 batches done\n",
      "Accuracy: 0.459209280303\n",
      "6 out of 390 batches done\n",
      "Accuracy: 0.462934027778\n",
      "6 out of 390 batches done\n",
      "Accuracy: 0.460596955128\n",
      "2017-07-13 21:14:37.359516 Validation Accuracy = 0.4606\n"
     ]
    }
   ],
   "source": [
    "# Test validation accuracy of fine-tuned AlexNet\n",
    "\n",
    "# Create Validation data generator\n",
    "val_file = './val.txt'\n",
    "val_generator = ImageDataGenerator(val_file, shuffle = False)\n",
    "\n",
    "# Params\n",
    "learning_rate = 0.01\n",
    "num_epochs = 20\n",
    "batch_size = 128\n",
    "checkpoint_path = \"./tmp/finetune_alexnet/\"\n",
    "\n",
    "# Get the number of validation steps per epoch\n",
    "val_batches_per_epoch = np.floor(val_generator.data_size / batch_size).astype(np.int32)\n",
    "\n",
    "# Evaluation op: Accuracy of the model\n",
    "with tf.name_scope(\"accuracy\"):\n",
    "  correct_pred = tf.equal(tf.argmax(score, 1), tf.argmax(y, 1))\n",
    "  accuracy = tf.reduce_mean(tf.cast(correct_pred, tf.float32))\n",
    "\n",
    "# Saver to load checkpoint\n",
    "saver = tf.train.Saver()\n",
    "\n",
    "with tf.Session() as sess:\n",
    "#     # Load the pretrained weights into the model [from BVLC]\n",
    "#     model.load_initial_weights(sess)\n",
    "    \n",
    "    # Load model from checkpoint [fine-tuned AlexNet starting from BVLC]    \n",
    "    saver.restore(sess, tf.train.latest_checkpoint(checkpoint_path))\n",
    "\n",
    "    print(\"{} Start validation\".format(datetime.now()))\n",
    "    test_acc = 0.\n",
    "    test_count = 0\n",
    "    for _ in range(val_batches_per_epoch):\n",
    "        \n",
    "        batch_tx, batch_ty = val_generator.next_batch(batch_size)\n",
    "        acc = sess.run(accuracy, feed_dict={x: batch_tx, \n",
    "                                            y: batch_ty, \n",
    "                                            keep_prob: 1.})\n",
    "        test_acc += acc\n",
    "        test_count += 1\n",
    "        if test_count % 30 == 0:\n",
    "            print(str(i) + ' out of ' + str(val_batches_per_epoch) + ' batches done')\n",
    "            print(\"Accuracy: \" + str(test_acc / test_count))\n",
    "    test_acc /= test_count\n",
    "    print(\"{} Validation Accuracy = {:.4f}\".format(datetime.now(), test_acc))"
   ]
  },
  {
   "cell_type": "code",
   "execution_count": null,
   "metadata": {
    "collapsed": true
   },
   "outputs": [],
   "source": []
  }
 ],
 "metadata": {
  "kernelspec": {
   "display_name": "Python 2",
   "language": "python",
   "name": "python2"
  },
  "language_info": {
   "codemirror_mode": {
    "name": "ipython",
    "version": 2
   },
   "file_extension": ".py",
   "mimetype": "text/x-python",
   "name": "python",
   "nbconvert_exporter": "python",
   "pygments_lexer": "ipython2",
   "version": "2.7.12"
  }
 },
 "nbformat": 4,
 "nbformat_minor": 2
}
