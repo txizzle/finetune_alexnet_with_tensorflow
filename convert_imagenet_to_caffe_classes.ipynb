{
 "cells": [
  {
   "cell_type": "code",
   "execution_count": 37,
   "metadata": {
    "collapsed": true
   },
   "outputs": [],
   "source": [
    "import os\n",
    "import numpy as np\n",
    "from caffe_classes import class_names\n",
    "\n",
    "curr_dir = os.getcwd()\n",
    "data_dir = '/mnt/ssd/tmp/txiao/imagenet'\n"
   ]
  },
  {
   "cell_type": "code",
   "execution_count": 38,
   "metadata": {
    "collapsed": true
   },
   "outputs": [],
   "source": [
    "train_dir = os.path.join(data_dir, 'ilsvrc2012-train')\n",
    "val_dir = os.path.join(data_dir, 'ilsvrc2012-val')\n",
    "\n",
    "# Create mapping between class ID and text description\n",
    "class_dict = {}\n",
    "\n",
    "tf_classes_path = os.path.join(data_dir, 'imagenet_metadata.txt')\n",
    "tf_classes_file = open(tf_classes_path, 'r')\n",
    "\n",
    "for line in tf_classes_file:\n",
    "    parsed_line = line.split('\\t')\n",
    "    class_dict[parsed_line[0]] = parsed_line[1][:-1]"
   ]
  },
  {
   "cell_type": "code",
   "execution_count": 39,
   "metadata": {
    "collapsed": true
   },
   "outputs": [],
   "source": [
    "# Map ImageNet ID to index of Caffe class\n",
    "train_classes = os.listdir(train_dir)\n",
    "id_to_index = {} \n",
    "\n",
    "# Match each training folder ID to text tag and then Caffe index\n",
    "for id in train_classes:\n",
    "    if id not in class_dict:\n",
    "        print(str(id) + \" not in image_metadat.txt\")\n",
    "        break\n",
    "    text_tag = class_dict[id]\n",
    "    if text_tag not in class_names:\n",
    "         print(text_tag + ' not in class_names frmo Caffe')\n",
    "    id_to_index[id] = class_names.index(text_tag)\n"
   ]
  },
  {
   "cell_type": "code",
   "execution_count": 45,
   "metadata": {},
   "outputs": [
    {
     "name": "stdout",
     "output_type": "stream",
     "text": [
      "100 classes processed!\n",
      "200 classes processed!\n",
      "300 classes processed!\n",
      "400 classes processed!\n",
      "500 classes processed!\n",
      "600 classes processed!\n",
      "700 classes processed!\n",
      "800 classes processed!\n",
      "900 classes processed!\n",
      "1000 classes processed!\n"
     ]
    }
   ],
   "source": [
    "# List training images into text file with classes\n",
    "# Format: /path/to/image.jpeg 928\n",
    "\n",
    "count = 0\n",
    "train_file = open('train.txt', 'w')\n",
    "for class_id in train_classes:\n",
    "    class_dir = os.path.join(train_dir, class_id)\n",
    "    for f in os.listdir(class_dir):\n",
    "        img_path = os.path.join(class_dir, f)\n",
    "        train_file.write(img_path + ' ' + str(id_to_index[class_id]) + '\\n')\n",
    "    count += 1\n",
    "    if count % 100 == 0:\n",
    "        print(str(count) + \" classes processed!\")\n",
    "train_file.close()"
   ]
  },
  {
   "cell_type": "code",
   "execution_count": 43,
   "metadata": {},
   "outputs": [
    {
     "name": "stdout",
     "output_type": "stream",
     "text": [
      "0 classes processed!\n",
      "100 classes processed!\n",
      "200 classes processed!\n",
      "300 classes processed!\n",
      "400 classes processed!\n",
      "500 classes processed!\n",
      "600 classes processed!\n",
      "700 classes processed!\n",
      "800 classes processed!\n",
      "900 classes processed!\n"
     ]
    }
   ],
   "source": [
    "count = 0\n",
    "val_file = open('val.txt', 'w')\n",
    "for class_id in train_classes:\n",
    "\n",
    "    class_dir = os.path.join(val_dir, class_id)\n",
    "    for f in os.listdir(class_dir):\n",
    "        img_path = os.path.join(class_dir, f)\n",
    "        val_file.write(img_path + ' ' + str(id_to_index[class_id]) + '\\n')\n",
    "    count += 1\n",
    "    if count % 100 == 0:\n",
    "        print(str(count) + \" classes processed!\")\n",
    "val_file.close()"
   ]
  },
  {
   "cell_type": "code",
   "execution_count": 44,
   "metadata": {},
   "outputs": [
    {
     "name": "stdout",
     "output_type": "stream",
     "text": [
      "warthog\n"
     ]
    }
   ],
   "source": [
    "print(class_dict['n02397096'])"
   ]
  },
  {
   "cell_type": "code",
   "execution_count": null,
   "metadata": {
    "collapsed": true
   },
   "outputs": [],
   "source": []
  }
 ],
 "metadata": {
  "kernelspec": {
   "display_name": "Python 2",
   "language": "python",
   "name": "python2"
  },
  "language_info": {
   "codemirror_mode": {
    "name": "ipython",
    "version": 2
   },
   "file_extension": ".py",
   "mimetype": "text/x-python",
   "name": "python",
   "nbconvert_exporter": "python",
   "pygments_lexer": "ipython2",
   "version": "2.7.12"
  }
 },
 "nbformat": 4,
 "nbformat_minor": 2
}
